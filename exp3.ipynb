{
  "cells": [
    {
      "cell_type": "code",
      "execution_count": 16,
      "metadata": {
        "trusted": true
      },
      "outputs": [],
      "source": [
        "%matplotlib inline\n",
        "import matplotlib.pyplot as plt\n",
        "import random\n",
        "import math\n",
        "import sys\n",
        "from collections import defaultdict, deque, Counter\n",
        "from itertools import combinations\n",
        "import heapq"
      ]
    },
    {
      "cell_type": "code",
      "execution_count": 17,
      "metadata": {
        "trusted": true
      },
      "outputs": [],
      "source": [
        "class Problem(object):\n",
        "    \"\"\"The abstract class for a formal problem. A new domain subclasses this,\n",
        "    overriding `actions` and `results`, and perhaps other methods.\n",
        "    The default heuristic is 0 and the default action cost is 1 for all states.\n",
        "    When yiou create an instance of a subclass, specify `initial`, and `goal` states \n",
        "    (or give an `is_goal` method) and perhaps other keyword args for the subclass.\"\"\"\n",
        "\n",
        "    def __init__(self, initial=None, goal=None, **kwds): \n",
        "        self.__dict__.update(initial=initial, goal=goal, **kwds) \n",
        "        \n",
        "    def actions(self, state):        \n",
        "        raise NotImplementedError\n",
        "    def result(self, state, action): \n",
        "        raise NotImplementedError\n",
        "    def is_goal(self, state):        \n",
        "        return state == self.goal\n",
        "    def action_cost(self, s, a, s1): \n",
        "        return 1\n",
        "    \n",
        "    def __str__(self):\n",
        "        return '{0}({1}, {2})'.format(\n",
        "            type(self).__name__, self.initial, self.goal)"
      ]
    },
    {
      "cell_type": "code",
      "execution_count": 18,
      "metadata": {
        "trusted": true
      },
      "outputs": [],
      "source": [
        "class Node:\n",
        "    \"A Node in a search tree.\"\n",
        "    def __init__(self, state, parent=None, action=None, path_cost=0):\n",
        "        self.__dict__.update(state=state, parent=parent, action=action, path_cost=path_cost)\n",
        "\n",
        "    def __str__(self): \n",
        "        return '<{0}>'.format(self.state)\n",
        "    def __len__(self): \n",
        "        return 0 if self.parent is None else (1 + len(self.parent))\n",
        "    def __lt__(self, other): \n",
        "        return self.path_cost < other.path_cost"
      ]
    },
    {
      "cell_type": "code",
      "execution_count": 19,
      "metadata": {
        "trusted": true
      },
      "outputs": [],
      "source": [
        "failure = Node('failure', path_cost=math.inf) # Indicates an algorithm couldn't find a solution.\n",
        "cutoff  = Node('cutoff',  path_cost=math.inf) # Indicates iterative deepening search was cut off."
      ]
    },
    {
      "cell_type": "code",
      "execution_count": 20,
      "metadata": {
        "trusted": true
      },
      "outputs": [],
      "source": [
        "def expand(problem, node):\n",
        "    \"Expand a node, generating the children nodes.\"\n",
        "    s = node.state\n",
        "    for action in problem.actions(s):\n",
        "        s1 = problem.result(s, action)\n",
        "        cost = node.path_cost + problem.action_cost(s, action, s1)\n",
        "        yield Node(s1, node, action, cost)\n",
        "        \n",
        "\n",
        "def path_actions(node):\n",
        "    \"The sequence of actions to get to this node.\"\n",
        "    if node.parent is None:\n",
        "        return []  \n",
        "    return path_actions(node.parent) + [node.action]\n",
        "\n",
        "\n",
        "def path_states(node):\n",
        "    \"The sequence of states to get to this node.\"\n",
        "    if node in (cutoff, failure, None): \n",
        "        return []\n",
        "    return path_states(node.parent) + [node.state]"
      ]
    },
    {
      "cell_type": "code",
      "execution_count": 21,
      "metadata": {
        "trusted": true
      },
      "outputs": [],
      "source": [
        "class PriorityQueue:\n",
        "    \"\"\"A queue in which the item with minimum f(item) is always popped first.\"\"\"\n",
        "\n",
        "    def __init__(self, items=(), key=lambda x: x): \n",
        "        self.key = key\n",
        "        self.items = [] # a heap of (score, item) pairs\n",
        "        for item in items:\n",
        "            self.add(item)\n",
        "         \n",
        "    def add(self, item):\n",
        "        \"\"\"Add item to the queuez.\"\"\"\n",
        "        pair = (self.key(item), item)\n",
        "        heapq.heappush(self.items, pair)\n",
        "\n",
        "    def pop(self):\n",
        "        \"\"\"Pop and return the item with min f(item) value.\"\"\"\n",
        "        return heapq.heappop(self.items)[1]\n",
        "    \n",
        "    def top(self): return self.items[0][1]\n",
        "\n",
        "    def __len__(self): return len(self.items)"
      ]
    },
    {
      "cell_type": "code",
      "execution_count": 22,
      "metadata": {
        "trusted": true
      },
      "outputs": [],
      "source": [
        "def best_first_search(problem):\n",
        "    \"Search nodes with minimum f(node) value first.\"\n",
        "    node = Node(problem.initial)\n",
        "    frontier = PriorityQueue([node])\n",
        "    reached = {problem.initial: node}\n",
        "    while frontier:\n",
        "        node = frontier.pop()\n",
        "        if problem.is_goal(node.state):\n",
        "            return node\n",
        "        for child in expand(problem, node):\n",
        "            s= child.state\n",
        "            if s not in reached or child.path_cost < reached[s].path_cost:\n",
        "                reached[s] = child\n",
        "                frontier.add(child)\n",
        "    return failure\n",
        "\n",
        "def g(n): \n",
        "        return n.path_cost"
      ]
    },
    {
      "cell_type": "code",
      "execution_count": 23,
      "metadata": {
        "trusted": true
      },
      "outputs": [],
      "source": [
        "class RouteProblem(Problem):\n",
        "    \"\"\"A problem to find a route between locations on a `Map`.\n",
        "    Create a problem with RouteProblem(start, goal, map=Map(...)}).\n",
        "    States are the vertexes in the Map graph; actions are destination states.\"\"\"\n",
        "    \n",
        "    def actions(self, state): \n",
        "        \"\"\"The places neighboring `state`.\"\"\"\n",
        "        return self.map.neighbors[state]\n",
        "    \n",
        "    def result(self, state, action):\n",
        "        \"\"\"Go to the `action` place, if the map says that is possible.\"\"\"\n",
        "        return action if action in self.map.neighbors[state] else state\n",
        "    \n",
        "    def action_cost(self, s, action, s1):\n",
        "        \"\"\"The distance (cost) to go from s to s1.\"\"\"\n",
        "        return self.map.distances[s, s1]\n",
        "    \n",
        "    def h(self, node):\n",
        "        \"Straight-line distance between state and the goal.\"\n",
        "        locs = self.map.locations\n",
        "        return straight_line_distance(locs[node.state], locs[self.goal])\n",
        "    "
      ]
    },
    {
      "cell_type": "code",
      "execution_count": 24,
      "metadata": {
        "trusted": true
      },
      "outputs": [],
      "source": [
        "class Map:\n",
        "    \"\"\"A map of places in a 2D world: a graph with vertexes and links between them. \n",
        "    In `Map(links, locations)`, `links` can be either [(v1, v2)...] pairs, \n",
        "    or a {(v1, v2): distance...} dict. Optional `locations` can be {v1: (x, y)} \n",
        "    If `directed=False` then for every (v1, v2) link, we add a (v2, v1) link.\"\"\"\n",
        "\n",
        "    def __init__(self, links, locations=None, directed=False):\n",
        "        if not hasattr(links, 'items'): # Distances are 1 by default\n",
        "            links = {link: 1 for link in links}\n",
        "        if not directed:\n",
        "            for (v1, v2) in list(links):\n",
        "                links[v2, v1] = links[v1, v2]\n",
        "        self.distances = links\n",
        "        self.neighbors = multimap(links)\n",
        "        self.locations = locations or defaultdict(lambda: (0, 0))\n",
        "\n",
        "        \n",
        "def multimap(pairs) -> dict:\n",
        "    \"Given (key, val) pairs, make a dict of {key: [val,...]}.\"\n",
        "    result = defaultdict(list)\n",
        "    for key, val in pairs:\n",
        "        result[key].append(val)\n",
        "    return result"
      ]
    },
    {
      "cell_type": "code",
      "execution_count": 25,
      "metadata": {
        "trusted": true
      },
      "outputs": [],
      "source": [
        "# Create your own map and define the nodes\n",
        "\n",
        "saveetha_nearby_locations = Map(\n",
        "    {('SaveethaHospital', 'Chembarambakkam'):  3, \n",
        "    ('Chembarambakkam', 'PoonamalleeBridge'): 6, \n",
        "    ('PoonamalleeBridge', 'PoonamalleeBusTerminus'): 1, \n",
        "    ('PoonamalleeBridge', 'Seener Kupam'): 3,\n",
        "    ('Seener Kupam', 'SaveethaDentalCollege'): 3, \n",
        "    ('PoonamalleeBusTerminus', 'Karanchavadi'): 3, \n",
        "    ('Karanchavadi','Kumanchavadi'): 2,\n",
        "    ('Karanchavadi','Seener kupam'): 2,\n",
        "    ('Kumanachavadi', 'Kattupakkam'): 1,\n",
        "    ('SaveethaDentalCollege', 'Kumanachavadi'): 2, \n",
        "    ('SaveethaDentalCollege', 'Maduravoyal'):  5, \n",
        "    ('Maduravoyal', 'Koyambedu'): 5, \n",
        "    ('Koyambedu', 'CMBT'): 1,\n",
        "    ('Koyambedu', 'Chetpet'): 6,\n",
        "    ('CMBT', 'Vadapalani'): 5,  \n",
        "    ('Kattupakkam', 'Porur link road'): 4, \n",
        "    ('Porur link road', 'Porur'): 1,\n",
        "    ('Porur', 'Vadapalani'): 3,\n",
        "    ('Porur link road', 'Maduravoil'): 2, \n",
        "    ('Porur', 'Vadapalani'): 4,\n",
        "    ('Vadapalani', 'T-Nagar'): 4,\n",
        "    ('Vadapalani', 'Guindy'): 6,\n",
        "    ('Vadapalani', 'Nungabakkam'): 4,\n",
        "    ('Nungabakkam','Chetpet'): 5,\n",
        "    ('T-Nagar', 'Guindy'): 7, \n",
        "    ('Porur', 'Gundy'): 10, \n",
        "    ('Gundy', 'ChennaiAirport'): 5})\n",
        "\n",
        "\n",
        "r0 = RouteProblem('SaveethaHospital', 'ChennaiAirport', map=saveetha_nearby_locations)\n",
        "r1 = RouteProblem('PoonamalleeBusTerminus', 'Koyambedu', map=saveetha_nearby_locations)\n",
        "r2 = RouteProblem('Koyambedu', 'Nungabakkam', map=saveetha_nearby_locations)\n",
        "r3 = RouteProblem('Kattupakkam', 'ChennaiAirport', map=saveetha_nearby_locations)\n",
        "r4 = RouteProblem('ChennaiAirport', 'SaveethaDentalCollege', map=saveetha_nearby_locations)\n",
        "r5 = RouteProblem('SaveethaHospital', 'Maduravoil', map=saveetha_nearby_locations)\n",
        "r6 = RouteProblem('PoonamalleeBusTerminus', 'Vadapalani', map=saveetha_nearby_locations)\n",
        "r7 = RouteProblem('Koyambedu', 'Karanchavadi', map=saveetha_nearby_locations)\n",
        "r8 = RouteProblem('Kattupakkam', 'T-Nagar', map=saveetha_nearby_locations)\n",
        "r9 = RouteProblem('Vadapalani', 'SaveethaDentalCollege', map=saveetha_nearby_locations)"
      ]
    },
    {
      "cell_type": "code",
      "execution_count": 26,
      "metadata": {
        "trusted": true
      },
      "outputs": [
        {
          "name": "stdout",
          "output_type": "stream",
          "text": [
            "RouteProblem(SaveethaHospital, ChennaiAirport)\n",
            "RouteProblem(PoonamalleeBusTerminus, Koyambedu)\n",
            "RouteProblem(Koyambedu, Nungabakkam)\n",
            "RouteProblem(Kattupakkam, ChennaiAirport)\n",
            "RouteProblem(ChennaiAirport, SaveethaDentalCollege)\n",
            "RouteProblem(SaveethaHospital, Maduravoil)\n",
            "RouteProblem(PoonamalleeBusTerminus, Vadapalani)\n",
            "RouteProblem(Koyambedu, Karanchavadi)\n",
            "RouteProblem(Kattupakkam, T-Nagar)\n",
            "RouteProblem(Vadapalani, SaveethaDentalCollege)\n"
          ]
        }
      ],
      "source": [
        "print(r0)\n",
        "print(r1)\n",
        "print(r2)\n",
        "print(r3)\n",
        "print(r4)\n",
        "print(r5)\n",
        "print(r6)\n",
        "print(r7)\n",
        "print(r8)\n",
        "print(r9)"
      ]
    },
    {
      "cell_type": "code",
      "execution_count": 31,
      "metadata": {
        "trusted": true
      },
      "outputs": [],
      "source": [
        "goal_state_path= best_first_search(r7)\n"
      ]
    },
    {
      "cell_type": "code",
      "execution_count": 32,
      "metadata": {
        "trusted": true
      },
      "outputs": [
        {
          "name": "stdout",
          "output_type": "stream",
          "text": [
            "GoalStateWithPath:<Karanchavadi>\n"
          ]
        }
      ],
      "source": [
        "print(\"GoalStateWithPath:{0}\".format(goal_state_path))\n"
      ]
    },
    {
      "cell_type": "code",
      "execution_count": 33,
      "metadata": {
        "trusted": true
      },
      "outputs": [
        {
          "data": {
            "text/plain": [
              "['Koyambedu',\n",
              " 'Maduravoyal',\n",
              " 'SaveethaDentalCollege',\n",
              " 'Seener Kupam',\n",
              " 'PoonamalleeBridge',\n",
              " 'PoonamalleeBusTerminus',\n",
              " 'Karanchavadi']"
            ]
          },
          "execution_count": 33,
          "metadata": {},
          "output_type": "execute_result"
        }
      ],
      "source": [
        "path_states(goal_state_path)\n"
      ]
    },
    {
      "cell_type": "code",
      "execution_count": 30,
      "metadata": {
        "trusted": true
      },
      "outputs": [
        {
          "name": "stdout",
          "output_type": "stream",
          "text": [
            "Total Distance=23 Kilometers\n"
          ]
        }
      ],
      "source": [
        "print(\"Total Distance={0} Kilometers\".format(goal_state_path.path_cost))"
      ]
    }
  ],
  "metadata": {
    "interpreter": {
      "hash": "ca39f88a2d38a95affbacc4b81fd00a2dd957c0206b925676ce258144ab36f3b"
    },
    "kernelspec": {
      "display_name": "Python 3.10.4 64-bit",
      "language": "python",
      "name": "python3"
    },
    "language_info": {
      "codemirror_mode": {
        "name": "ipython",
        "version": 3
      },
      "file_extension": ".py",
      "mimetype": "text/x-python",
      "name": "python",
      "nbconvert_exporter": "python",
      "pygments_lexer": "ipython3",
      "version": "3.10.4"
    }
  },
  "nbformat": 4,
  "nbformat_minor": 4
}
